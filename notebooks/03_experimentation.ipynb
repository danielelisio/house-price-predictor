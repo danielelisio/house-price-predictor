{
 "cells": [
  {
   "cell_type": "code",
   "execution_count": 1,
   "id": "0c5655c4",
   "metadata": {},
   "outputs": [
    {
     "name": "stdout",
     "output_type": "stream",
     "text": [
      "📓 Notebook: 03_experimentation.ipynb\n",
      "🌍 Environment: house-price-predictor\n",
      "📁 Location: notebooks\n"
     ]
    }
   ],
   "source": [
    "# Quick Check: Notebook ↔ Environment\n",
    "import os\n",
    "from pathlib import Path\n",
    "\n",
    "print(f\"📓 Notebook: 03_experimentation.ipynb\")\n",
    "print(f\"🌍 Environment: {os.environ.get('CONDA_DEFAULT_ENV', 'unknown')}\")\n",
    "print(f\"📁 Location: {Path.cwd().name}\")"
   ]
  },
  {
   "cell_type": "code",
   "execution_count": 2,
   "id": "acc073a7",
   "metadata": {},
   "outputs": [
    {
     "name": "stdout",
     "output_type": "stream",
     "text": [
      "📓 Notebook: 03_experimentation.ipynb\n",
      "🌍 Environment: house-price-predictor\n",
      "📁 Directory: notebooks\n",
      "----------------------------------------\n"
     ]
    }
   ],
   "source": [
    "# 🔍 Quick Environment Check\n",
    "import os\n",
    "from pathlib import Path\n",
    "\n",
    "# Notebook info\n",
    "notebook_name = \"03_experimentation.ipynb\"  # Current notebook\n",
    "working_dir = Path.cwd().name\n",
    "\n",
    "# Environment info\n",
    "conda_env = os.environ.get('CONDA_DEFAULT_ENV', 'No conda env')\n",
    "\n",
    "print(f\"📓 Notebook: {notebook_name}\")\n",
    "print(f\"🌍 Environment: {conda_env}\")\n",
    "print(f\"📁 Directory: {working_dir}\")\n",
    "print(\"-\" * 40)"
   ]
  },
  {
   "cell_type": "code",
   "execution_count": null,
   "id": "9fcd29ac",
   "metadata": {},
   "outputs": [],
   "source": [
    "import pandas as pd\n",
    "import numpy as np\n",
    "import joblib\n",
    "import mlflow\n",
    "import mlflow.sklearn\n",
    "from sklearn.model_selection import train_test_split, GridSearchCV\n",
    "from sklearn.ensemble import RandomForestRegressor, GradientBoostingRegressor\n",
    "from sklearn.linear_model import LinearRegression\n",
    "from sklearn.metrics import mean_absolute_error, mean_squared_error, r2_score\n",
    "import xgboost as xgb\n",
    "import yaml\n",
    "import os\n",
    "import logging\n",
    "from contextlib import nullcontext\n",
    "import matplotlib.pyplot as plt\n",
    "\n",
    "logging.basicConfig(level=logging.INFO)\n",
    "logger = logging.getLogger()\n",
    "\n",
    "# Simple and reliable MLflow URI\n",
    "mlflow_tracking_uri = 'http://127.0.0.1:5555'"
   ]
  },
  {
   "cell_type": "code",
   "execution_count": 4,
   "id": "8bfa7aa8",
   "metadata": {},
   "outputs": [],
   "source": [
    "# Load dataset\n",
    "data_path = '../data/processed/featured_house_data.csv'  # Update path if needed\n",
    "data = pd.read_csv(data_path)\n",
    "X = data.drop('price', axis=1)\n",
    "y = data['price']\n",
    "X_train, X_test, y_train, y_test = train_test_split(X, y, test_size=0.2, random_state=42)\n"
   ]
  },
  {
   "cell_type": "code",
   "execution_count": 5,
   "id": "ea62c9b8",
   "metadata": {},
   "outputs": [
    {
     "name": "stdout",
     "output_type": "stream",
     "text": [
      "✅ Top 10 Selected Features by RFE:\n",
      " - 0\n",
      " - 2\n",
      " - 3\n",
      " - 4\n",
      " - 5\n",
      " - 9\n",
      " - 12\n",
      " - 13\n",
      " - 14\n",
      " - 15\n",
      "\n",
      "❌ Features Ignored by RFE:\n",
      " - 1\n",
      " - 6\n",
      " - 7\n",
      " - 8\n",
      " - 10\n",
      " - 11\n"
     ]
    }
   ],
   "source": [
    "from sklearn.feature_selection import RFE\n",
    "from xgboost import XGBRegressor\n",
    "\n",
    "# Use XGBoost for RFE to stay consistent\n",
    "xgb_model = XGBRegressor(objective='reg:squarederror')\n",
    "xgb_model.fit(X_train, y_train)\n",
    "\n",
    "# RFE\n",
    "rfe_selector = RFE(estimator=xgb_model, n_features_to_select=10)\n",
    "rfe_selector.fit(X_train, y_train)\n",
    "rfe_selected_features = X.columns[rfe_selector.support_]\n",
    "rfe_ignored_features = X.columns[~rfe_selector.support_]\n",
    "\n",
    "print(\"✅ Top 10 Selected Features by RFE:\")\n",
    "for feature in rfe_selected_features:\n",
    "    print(f\" - {feature}\")\n",
    "\n",
    "print(\"\\n❌ Features Ignored by RFE:\")\n",
    "for feature in rfe_ignored_features:\n",
    "    print(f\" - {feature}\")\n",
    "\n",
    "# Store for config\n",
    "selected_features_dict = {\n",
    "    'rfe': list(rfe_selected_features)\n",
    "}\n",
    "\n",
    "# Filter datasets to use only selected features for experimentation\n",
    "X_train = X_train[rfe_selected_features]\n",
    "X_test = X_test[rfe_selected_features]\n"
   ]
  },
  {
   "cell_type": "code",
   "execution_count": 6,
   "id": "056abaee",
   "metadata": {},
   "outputs": [],
   "source": [
    "# Optional MLflow setup\n",
    "if mlflow_tracking_uri:\n",
    "    mlflow.set_tracking_uri(mlflow_tracking_uri)\n",
    "    mlflow.set_experiment(\"House Price Prediction Experiment\")\n"
   ]
  },
  {
   "cell_type": "code",
   "execution_count": 7,
   "id": "96df1663",
   "metadata": {},
   "outputs": [],
   "source": [
    "# Define models and hyperparameter grids\n",
    "models = {\n",
    "    'LinearRegression': LinearRegression(),\n",
    "    'RandomForest': RandomForestRegressor(),\n",
    "    'GradientBoosting': GradientBoostingRegressor(),\n",
    "    'XGBoost': xgb.XGBRegressor(objective='reg:squarederror')\n",
    "}\n",
    "\n",
    "model_grids = {\n",
    "    'LinearRegression': {},\n",
    "    'RandomForest': {\n",
    "        'n_estimators': [100, 150],\n",
    "        'max_depth': [None, 10, 20]\n",
    "    },\n",
    "    'GradientBoosting': {\n",
    "        'n_estimators': [100, 250],\n",
    "        'learning_rate': [0.1, 0.05],\n",
    "        'max_depth': [3, 10]\n",
    "    },\n",
    "    'XGBoost': {\n",
    "        'n_estimators': [100, 150],\n",
    "        'learning_rate': [0.1, 0.05],\n",
    "        'max_depth': [3, 10]\n",
    "    }\n",
    "}\n"
   ]
  },
  {
   "cell_type": "code",
   "execution_count": 8,
   "id": "5544f57a",
   "metadata": {},
   "outputs": [
    {
     "name": "stdout",
     "output_type": "stream",
     "text": [
      "MLflow tracking URI: http://localhost:5555\n"
     ]
    }
   ],
   "source": [
    "def evaluate_model_with_gridsearch(name, model, grid, X_train, y_train, X_test, y_test):\n",
    "    if grid:\n",
    "        clf = GridSearchCV(model, grid, cv=3, scoring='r2', n_jobs=-1)\n",
    "        clf.fit(X_train, y_train)\n",
    "        best_model = clf.best_estimator_\n",
    "        best_params = clf.best_params_\n",
    "    else:\n",
    "        model.fit(X_train, y_train)\n",
    "        best_model = model\n",
    "        best_params = model.get_params()\n",
    "\n",
    "    y_pred = best_model.predict(X_test)\n",
    "    mae = mean_absolute_error(y_test, y_pred)\n",
    "    mse = mean_squared_error(y_test, y_pred)\n",
    "    rmse = np.sqrt(mse)\n",
    "    r2 = r2_score(y_test, y_pred)\n",
    "\n",
    "    return {\n",
    "        'mae': mae,\n",
    "        'mse': mse,\n",
    "        'rmse': rmse,\n",
    "        'r2': r2,\n",
    "        'model': best_model,\n",
    "        'params': best_params\n",
    "    }\n",
    "\n",
    "print(\"MLflow tracking URI:\", mlflow_tracking_uri)\n"
   ]
  },
  {
   "cell_type": "code",
   "execution_count": 9,
   "id": "cc2ef242",
   "metadata": {},
   "outputs": [],
   "source": [
    "# Compressed version (25 → 15 lines)\n",
    "def evaluate_model_with_gridsearch_test(name, model, grid, X_train, y_train, X_test, y_test):\n",
    "    # Hyperparameter tuning if grid provided\n",
    "    if grid:\n",
    "        model = GridSearchCV(model, grid, cv=3, scoring='r2', n_jobs=-1)\n",
    "    \n",
    "    # Train model\n",
    "    model.fit(X_train, y_train)\n",
    "    \n",
    "    # Get best model and params\n",
    "    best_model = model.best_estimator_ if grid else model\n",
    "    best_params = model.best_params_ if grid else model.get_params()\n",
    "    \n",
    "    # Evaluate\n",
    "    y_pred = best_model.predict(X_test)\n",
    "    mae, mse, r2 = mean_absolute_error(y_test, y_pred), mean_squared_error(y_test, y_pred), r2_score(y_test, y_pred)\n",
    "    \n",
    "    return {\n",
    "        'mae': mae, 'mse': mse, 'rmse': np.sqrt(mse), 'r2': r2,\n",
    "        'model': best_model, 'params': best_params\n",
    "    }"
   ]
  },
  {
   "cell_type": "code",
   "execution_count": 10,
   "id": "ff2ddc60",
   "metadata": {},
   "outputs": [
    {
     "name": "stderr",
     "output_type": "stream",
     "text": [
      "INFO:root:Training LinearRegression...\n",
      "2025/10/29 21:58:52 WARNING mlflow.models.model: `artifact_path` is deprecated. Please use `name` instead.\n",
      "2025/10/29 21:58:52 WARNING mlflow.models.model: `artifact_path` is deprecated. Please use `name` instead.\n",
      "2025/10/29 21:59:08 WARNING mlflow.models.model: Model logged without a signature and input example. Please set `input_example` parameter when logging the model to auto infer the model signature.\n",
      "2025/10/29 21:59:08 WARNING mlflow.models.model: Model logged without a signature and input example. Please set `input_example` parameter when logging the model to auto infer the model signature.\n",
      "INFO:root:Training RandomForest...\n",
      "INFO:root:Training RandomForest...\n"
     ]
    },
    {
     "name": "stdout",
     "output_type": "stream",
     "text": [
      "LinearRegression R2: 0.9818, RMSE: 29099.30\n",
      "🏃 View run LinearRegression at: http://localhost:5555/#/experiments/464429166272453842/runs/a5d763c39ca94dda82f9bc102d7231ec\n",
      "🧪 View experiment at: http://localhost:5555/#/experiments/464429166272453842\n"
     ]
    },
    {
     "name": "stderr",
     "output_type": "stream",
     "text": [
      "2025/10/29 21:59:20 WARNING mlflow.models.model: `artifact_path` is deprecated. Please use `name` instead.\n",
      "2025/10/29 21:59:28 WARNING mlflow.models.model: Model logged without a signature and input example. Please set `input_example` parameter when logging the model to auto infer the model signature.\n",
      "2025/10/29 21:59:28 WARNING mlflow.models.model: Model logged without a signature and input example. Please set `input_example` parameter when logging the model to auto infer the model signature.\n"
     ]
    },
    {
     "name": "stdout",
     "output_type": "stream",
     "text": [
      "RandomForest R2: 0.9832, RMSE: 28007.81\n"
     ]
    },
    {
     "name": "stderr",
     "output_type": "stream",
     "text": [
      "INFO:root:Training GradientBoosting...\n"
     ]
    },
    {
     "name": "stdout",
     "output_type": "stream",
     "text": [
      "🏃 View run RandomForest at: http://localhost:5555/#/experiments/464429166272453842/runs/6968a18ec7fd4766b8e7ed9455696c8c\n",
      "🧪 View experiment at: http://localhost:5555/#/experiments/464429166272453842\n"
     ]
    },
    {
     "name": "stderr",
     "output_type": "stream",
     "text": [
      "2025/10/29 21:59:30 WARNING mlflow.models.model: `artifact_path` is deprecated. Please use `name` instead.\n",
      "2025/10/29 21:59:34 WARNING mlflow.models.model: Model logged without a signature and input example. Please set `input_example` parameter when logging the model to auto infer the model signature.\n",
      "2025/10/29 21:59:34 WARNING mlflow.models.model: Model logged without a signature and input example. Please set `input_example` parameter when logging the model to auto infer the model signature.\n",
      "INFO:root:Training XGBoost...\n",
      "INFO:root:Training XGBoost...\n"
     ]
    },
    {
     "name": "stdout",
     "output_type": "stream",
     "text": [
      "GradientBoosting R2: 0.9871, RMSE: 24531.02\n",
      "🏃 View run GradientBoosting at: http://localhost:5555/#/experiments/464429166272453842/runs/811d5c81df3f4238b70d0e20eed22850\n",
      "🧪 View experiment at: http://localhost:5555/#/experiments/464429166272453842\n"
     ]
    },
    {
     "name": "stderr",
     "output_type": "stream",
     "text": [
      "2025/10/29 21:59:35 WARNING mlflow.models.model: `artifact_path` is deprecated. Please use `name` instead.\n",
      "2025/10/29 21:59:39 WARNING mlflow.models.model: Model logged without a signature and input example. Please set `input_example` parameter when logging the model to auto infer the model signature.\n",
      "2025/10/29 21:59:39 WARNING mlflow.models.model: Model logged without a signature and input example. Please set `input_example` parameter when logging the model to auto infer the model signature.\n"
     ]
    },
    {
     "name": "stdout",
     "output_type": "stream",
     "text": [
      "XGBoost R2: 0.9737, RMSE: 34983.98\n",
      "🏃 View run XGBoost at: http://localhost:5555/#/experiments/464429166272453842/runs/74555a1e53174744aad024735fa5cead\n",
      "🧪 View experiment at: http://localhost:5555/#/experiments/464429166272453842\n",
      "🏃 View run model_comparison at: http://localhost:5555/#/experiments/464429166272453842/runs/5cb9be572102440e92d66d720d5f80fc\n",
      "🧪 View experiment at: http://localhost:5555/#/experiments/464429166272453842\n"
     ]
    }
   ],
   "source": [
    "results = {}\n",
    "\n",
    "with mlflow.start_run(run_name=\"model_comparison\") if mlflow_tracking_uri else nullcontext():\n",
    "    for name, model in models.items():\n",
    "        logger.info(f\"Training {name}...\")\n",
    "        with mlflow.start_run(run_name=name, nested=True) if mlflow_tracking_uri else nullcontext():\n",
    "            evaluation = evaluate_model_with_gridsearch(name, model, model_grids[name], X_train, y_train, X_test, y_test)\n",
    "            results[name] = evaluation\n",
    "\n",
    "            if mlflow_tracking_uri:\n",
    "                mlflow.log_params(evaluation['params'])\n",
    "                mlflow.log_metrics({\n",
    "                    'mae': evaluation['mae'],\n",
    "                    'mse': evaluation['mse'],\n",
    "                    'rmse': evaluation['rmse'],\n",
    "                    'r2': evaluation['r2']\n",
    "                })\n",
    "                mlflow.sklearn.log_model(evaluation['model'], artifact_path=name.lower().replace(\" \", \"_\"))\n",
    "            \n",
    "            print(f\"{name} R2: {evaluation['r2']:.4f}, RMSE: {evaluation['rmse']:.2f}\")\n"
   ]
  },
  {
   "cell_type": "code",
   "execution_count": null,
   "id": "b60fc63e",
   "metadata": {},
   "outputs": [],
   "source": [
    "\"\"\"\n",
    "Simplified approach - no complex nested context management\n",
    "results = {}\n",
    "\n",
    "for name, model in models.items():\n",
    "    logger.info(f\"Training {name}...\")\n",
    "    \n",
    "    # Train and evaluate\n",
    "    evaluation = evaluate_model_with_gridsearch(name, model, model_grids[name], X_train, y_train, X_test, y_test)\n",
    "    results[name] = evaluation\n",
    "    \n",
    "    # Log to MLflow if enabled\n",
    "    if mlflow_tracking_uri:\n",
    "        with mlflow.start_run(run_name=f\"{name}_experiment\"):\n",
    "            mlflow.log_params(evaluation['params'])\n",
    "            mlflow.log_metrics({k: evaluation[k] for k in ['mae', 'mse', 'rmse', 'r2']})\n",
    "            mlflow.sklearn.log_model(evaluation['model'], artifact_path=name.lower().replace(\" \", \"_\"))\n",
    "    \n",
    "    print(f\"{name} R2: {evaluation['r2']:.4f}, RMSE: {evaluation['rmse']:.2f}\")\n",
    "\"\"\""
   ]
  },
  {
   "cell_type": "code",
   "execution_count": 11,
   "id": "24d6d8bf",
   "metadata": {},
   "outputs": [
    {
     "data": {
      "image/png": "[encoded data removed]",
      "text/plain": [
       "<Figure size 1000x600 with 1 Axes>"
      ]
     },
     "metadata": {},
     "output_type": "display_data"
    },
    {
     "data": {
      "image/png": "[encoded data removed]",
      "text/plain": [
       "<Figure size 1000x600 with 1 Axes>"
      ]
     },
     "metadata": {},
     "output_type": "display_data"
    },
    {
     "data": {
      "image/png": "[encoded data removed]",
      "text/plain": [
       "<Figure size 1000x600 with 1 Axes>"
      ]
     },
     "metadata": {},
     "output_type": "display_data"
    }
   ],
   "source": [
    "def plot_model_metrics(results, metric='r2'):\n",
    "    names = list(results.keys())\n",
    "    values = [results[name][metric] for name in names]\n",
    "\n",
    "    plt.figure(figsize=(10, 6))\n",
    "    plt.bar(names, values)\n",
    "    plt.title(f'Model Comparison by {metric.upper()}')\n",
    "    plt.xlabel('Model')\n",
    "    plt.ylabel(metric.upper())\n",
    "    plt.grid(True)\n",
    "    plt.show()\n",
    "\n",
    "# Example usage:\n",
    "plot_model_metrics(results, metric='r2')\n",
    "plot_model_metrics(results, metric='rmse')\n",
    "plot_model_metrics(results, metric='mae')\n",
    "\n"
   ]
  },
  {
   "cell_type": "code",
   "execution_count": 12,
   "id": "786b22ec",
   "metadata": {},
   "outputs": [
    {
     "name": "stdout",
     "output_type": "stream",
     "text": [
      "🏆 Best Model: GradientBoosting\n",
      "   R² Score: 0.9871\n",
      "   MAE: 12639.10\n",
      "   RMSE: 24531.02\n",
      "Saved model config to ../configs/model_config.yaml\n"
     ]
    }
   ],
   "source": [
    "import yaml\n",
    "\n",
    "# Save model config with selected features \n",
    "# Display information about the best model\n",
    "best_model_name = max(results, key=lambda x: results[x]['r2'])\n",
    "best_model = results[best_model_name]['model']\n",
    "best_params = best_model.get_params()\n",
    "best_r2 = float(results[best_model_name]['r2'])\n",
    "best_mae = float(results[best_model_name]['mae'])\n",
    "best_rmse = float(results[best_model_name]['rmse'])\n",
    "\n",
    "print(f\"🏆 Best Model: {best_model_name}\")\n",
    "print(f\"   R² Score: {best_r2:.4f}\")\n",
    "print(f\"   MAE: {best_mae:.2f}\")\n",
    "print(f\"   RMSE: {best_rmse:.2f}\")\n",
    "\n",
    "model_config = {\n",
    "    'model': {\n",
    "        'name': 'house_price_model',\n",
    "        'best_model': best_model_name,\n",
    "        'parameters': best_params,\n",
    "        'r2_score': best_r2,\n",
    "        'mae': best_mae,\n",
    "        'target_variable': 'price',\n",
    "        'feature_sets': selected_features_dict\n",
    "    }\n",
    "}\n",
    "\n",
    "config_path = '../configs/model_config.yaml'\n",
    "os.makedirs(os.path.dirname(config_path), exist_ok=True)\n",
    "with open(config_path, 'w') as f:\n",
    "    yaml.dump(model_config, f)\n",
    "\n",
    "print(f\"Saved model config to {config_path}\")\n"
   ]
  }
 ],
 "metadata": {
  "kernelspec": {
   "display_name": "house-price-predictor",
   "language": "python",
   "name": "python3"
  },
  "language_info": {
   "codemirror_mode": {
    "name": "ipython",
    "version": 3
   },
   "file_extension": ".py",
   "mimetype": "text/x-python",
   "name": "python",
   "nbconvert_exporter": "python",
   "pygments_lexer": "ipython3",
   "version": "3.11.14"
  }
 },
 "nbformat": 4,
 "nbformat_minor": 5
}
